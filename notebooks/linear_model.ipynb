{
 "cells": [
  {
   "cell_type": "code",
   "execution_count": 1,
   "metadata": {},
   "outputs": [],
   "source": [
    "from tensorflow.python.lib.io import file_io\n",
    "import pandas\n",
    "from pandas.compat import StringIO\n",
    "import json\n",
    "import math\n",
    "import numpy as np"
   ]
  },
  {
   "cell_type": "code",
   "execution_count": 2,
   "metadata": {},
   "outputs": [
    {
     "name": "stdout",
     "output_type": "stream",
     "text": [
      "Requirement already satisfied: sklearn in /Users/lramsey/miniconda2/envs/clv/lib/python2.7/site-packages\n",
      "Requirement already satisfied: scikit-learn in /Users/lramsey/miniconda2/envs/clv/lib/python2.7/site-packages (from sklearn)\n",
      "Requirement already satisfied: scipy>=0.13.3 in /Users/lramsey/miniconda2/envs/clv/lib/python2.7/site-packages (from scikit-learn->sklearn)\n",
      "Requirement already satisfied: numpy>=1.8.2 in /Users/lramsey/miniconda2/envs/clv/lib/python2.7/site-packages (from scikit-learn->sklearn)\n",
      "\u001b[33mYou are using pip version 9.0.1, however version 19.0.1 is available.\n",
      "You should consider upgrading via the 'pip install --upgrade pip' command.\u001b[0m\n"
     ]
    }
   ],
   "source": [
    "!pip install sklearn"
   ]
  },
  {
   "cell_type": "code",
   "execution_count": 3,
   "metadata": {},
   "outputs": [],
   "source": [
    "from sklearn.linear_model import LinearRegression"
   ]
  },
  {
   "cell_type": "code",
   "execution_count": 4,
   "metadata": {},
   "outputs": [],
   "source": [
    "c_names =['customer_id', 'monetary_dnn', 'monetary_btyd', 'frequency_dnn',\n",
    "       'frequency_btyd', 'recency', 'T', 'time_between', 'avg_basket_value',\n",
    "       'avg_basket_size', 'cnt_returns', 'has_returned',\n",
    "       'frequency_btyd_clipped', 'monetary_btyd_clipped',\n",
    "       'target_monetary_clipped', 'target_monetary']"
   ]
  },
  {
   "cell_type": "code",
   "execution_count": 5,
   "metadata": {},
   "outputs": [],
   "source": [
    "train_df = file_io.FileIO(\n",
    "            '../data/train.csv',\n",
    "            mode='r').read()\n",
    "train_df = pandas.read_csv(\n",
    "            StringIO(train_df),\n",
    "            header = None,\n",
    "            names = c_names,\n",
    "            delimiter=',',\n",
    "            na_filter=True)"
   ]
  },
  {
   "cell_type": "code",
   "execution_count": 6,
   "metadata": {},
   "outputs": [],
   "source": [
    "eval_df = file_io.FileIO(\n",
    "            '../data/eval.csv',\n",
    "            mode='r').read()\n",
    "eval_df = pandas.read_csv(\n",
    "            StringIO(eval_df),\n",
    "            header = None,\n",
    "            names = c_names,\n",
    "            delimiter=',',\n",
    "            na_filter=True)"
   ]
  },
  {
   "cell_type": "code",
   "execution_count": 7,
   "metadata": {},
   "outputs": [],
   "source": [
    "test_df = file_io.FileIO(\n",
    "            '../data/test.csv',\n",
    "            mode='r').read()\n",
    "test_df = pandas.read_csv(\n",
    "            StringIO(test_df),\n",
    "            header = None,\n",
    "            names = c_names,\n",
    "            delimiter=',',\n",
    "            na_filter=True)"
   ]
  },
  {
   "cell_type": "code",
   "execution_count": 8,
   "metadata": {},
   "outputs": [],
   "source": [
    "reg = LinearRegression().fit(\n",
    "    train_df.values[:, [1,3,5,6,7,8,9,10,11]],\n",
    "    train_df.values[:, -1])"
   ]
  },
  {
   "cell_type": "code",
   "execution_count": 9,
   "metadata": {},
   "outputs": [
    {
     "data": {
      "text/plain": [
       "1399.0002542993266"
      ]
     },
     "execution_count": 9,
     "metadata": {},
     "output_type": "execute_result"
    }
   ],
   "source": [
    "error = 0\n",
    "i = 0\n",
    "for p in reg.predict(eval_df.values[:, [1,3,5,6,7,8,9,10,11]]):\n",
    "    error = error + math.pow(p - eval_df.values[i, -1], 2)\n",
    "    i = i +1\n",
    "math.sqrt(error/eval_df.values.shape[0])"
   ]
  },
  {
   "cell_type": "code",
   "execution_count": 10,
   "metadata": {},
   "outputs": [
    {
     "data": {
      "text/plain": [
       "961.9763923040274"
      ]
     },
     "execution_count": 10,
     "metadata": {},
     "output_type": "execute_result"
    }
   ],
   "source": [
    "error = 0\n",
    "i = 0\n",
    "for p in reg.predict(test_df.values[:, [1,3,5,6,7,8,9,10,11]]):\n",
    "    error = error + math.pow(p - test_df.values[i, -1], 2)\n",
    "    i = i +1\n",
    "math.sqrt(error/test_df.values.shape[0])"
   ]
  }
 ],
 "metadata": {
  "kernelspec": {
   "display_name": "Python 2",
   "language": "python",
   "name": "python2"
  },
  "language_info": {
   "codemirror_mode": {
    "name": "ipython",
    "version": 2
   },
   "file_extension": ".py",
   "mimetype": "text/x-python",
   "name": "python",
   "nbconvert_exporter": "python",
   "pygments_lexer": "ipython2",
   "version": "2.7.13"
  }
 },
 "nbformat": 4,
 "nbformat_minor": 2
}
